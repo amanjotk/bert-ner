{
 "cells": [
  {
   "cell_type": "code",
   "execution_count": null,
   "id": "43f99932",
   "metadata": {},
   "outputs": [
    {
     "name": "stdout",
     "output_type": "stream",
     "text": [
      "TensorFlow version: 2.9.0\n",
      "Num GPUs Available:  1\n",
      "Metal device set to: Apple M2\n",
      "WARNING:tensorflow:AutoGraph could not transform <function normalize_img at 0x147c51e50> and will run it as-is.\n",
      "Cause: Unable to locate the source code of <function normalize_img at 0x147c51e50>. Note that functions defined in certain environments, like the interactive Python shell, do not expose their source code. If that is the case, you should define them in a .py source file. If you are certain the code is graph-compatible, wrap the call using @tf.autograph.experimental.do_not_convert. Original error: could not get source code\n",
      "To silence this warning, decorate the function with @tf.autograph.experimental.do_not_convert\n"
     ]
    },
    {
     "name": "stderr",
     "output_type": "stream",
     "text": [
      "2023-03-02 13:33:31.352517: I tensorflow/core/common_runtime/pluggable_device/pluggable_device_factory.cc:305] Could not identify NUMA node of platform GPU ID 0, defaulting to 0. Your kernel may not have been built with NUMA support.\n",
      "2023-03-02 13:33:31.352675: I tensorflow/core/common_runtime/pluggable_device/pluggable_device_factory.cc:271] Created TensorFlow device (/job:localhost/replica:0/task:0/device:GPU:0 with 0 MB memory) -> physical PluggableDevice (device: 0, name: METAL, pci bus id: <undefined>)\n",
      "WARNING:tensorflow:AutoGraph could not transform <function normalize_img at 0x147c51e50> and will run it as-is.\n",
      "Cause: Unable to locate the source code of <function normalize_img at 0x147c51e50>. Note that functions defined in certain environments, like the interactive Python shell, do not expose their source code. If that is the case, you should define them in a .py source file. If you are certain the code is graph-compatible, wrap the call using @tf.autograph.experimental.do_not_convert. Original error: could not get source code\n",
      "To silence this warning, decorate the function with @tf.autograph.experimental.do_not_convert\n"
     ]
    },
    {
     "name": "stdout",
     "output_type": "stream",
     "text": [
      "WARNING: AutoGraph could not transform <function normalize_img at 0x147c51e50> and will run it as-is.\n",
      "Cause: Unable to locate the source code of <function normalize_img at 0x147c51e50>. Note that functions defined in certain environments, like the interactive Python shell, do not expose their source code. If that is the case, you should define them in a .py source file. If you are certain the code is graph-compatible, wrap the call using @tf.autograph.experimental.do_not_convert. Original error: could not get source code\n",
      "To silence this warning, decorate the function with @tf.autograph.experimental.do_not_convert\n",
      "Epoch 1/12\n"
     ]
    },
    {
     "name": "stderr",
     "output_type": "stream",
     "text": [
      "2023-03-02 13:33:31.850451: W tensorflow/core/platform/profile_utils/cpu_utils.cc:128] Failed to get CPU frequency: 0 Hz\n",
      "2023-03-02 13:33:31.851270: I tensorflow/core/grappler/optimizers/custom_graph_optimizer_registry.cc:113] Plugin optimizer for device_type GPU is enabled.\n"
     ]
    },
    {
     "name": "stdout",
     "output_type": "stream",
     "text": [
      "469/469 [==============================] - ETA: 0s - loss: 0.1548 - accuracy: 0.9535"
     ]
    },
    {
     "name": "stderr",
     "output_type": "stream",
     "text": [
      "2023-03-02 13:33:42.539317: I tensorflow/core/grappler/optimizers/custom_graph_optimizer_registry.cc:113] Plugin optimizer for device_type GPU is enabled.\n"
     ]
    },
    {
     "name": "stdout",
     "output_type": "stream",
     "text": [
      "469/469 [==============================] - 12s 22ms/step - loss: 0.1548 - accuracy: 0.9535 - val_loss: 0.0530 - val_accuracy: 0.9833\n",
      "Epoch 2/12\n",
      "469/469 [==============================] - 10s 21ms/step - loss: 0.0433 - accuracy: 0.9869 - val_loss: 0.0387 - val_accuracy: 0.9879\n",
      "Epoch 3/12\n",
      "469/469 [==============================] - 10s 21ms/step - loss: 0.0274 - accuracy: 0.9913 - val_loss: 0.0315 - val_accuracy: 0.9899\n",
      "Epoch 4/12\n",
      "469/469 [==============================] - 10s 22ms/step - loss: 0.0186 - accuracy: 0.9943 - val_loss: 0.0329 - val_accuracy: 0.9886\n",
      "Epoch 5/12\n",
      "469/469 [==============================] - 10s 22ms/step - loss: 0.0135 - accuracy: 0.9961 - val_loss: 0.0339 - val_accuracy: 0.9889\n",
      "Epoch 6/12\n",
      "469/469 [==============================] - 10s 21ms/step - loss: 0.0097 - accuracy: 0.9966 - val_loss: 0.0334 - val_accuracy: 0.9907\n",
      "Epoch 7/12\n",
      "469/469 [==============================] - 10s 21ms/step - loss: 0.0080 - accuracy: 0.9972 - val_loss: 0.0395 - val_accuracy: 0.9889\n",
      "Epoch 8/12\n",
      "469/469 [==============================] - 10s 21ms/step - loss: 0.0049 - accuracy: 0.9984 - val_loss: 0.0492 - val_accuracy: 0.9878\n",
      "Epoch 9/12\n",
      "469/469 [==============================] - 10s 21ms/step - loss: 0.0058 - accuracy: 0.9979 - val_loss: 0.0456 - val_accuracy: 0.9894\n",
      "Epoch 10/12\n",
      "469/469 [==============================] - 10s 21ms/step - loss: 0.0060 - accuracy: 0.9979 - val_loss: 0.0343 - val_accuracy: 0.9911\n",
      "Epoch 11/12\n",
      "350/469 [=====================>........] - ETA: 2s - loss: 0.0032 - accuracy: 0.9989"
     ]
    }
   ],
   "source": [
    "%%time\n",
    "import tensorflow as tf\n",
    "import tensorflow_datasets as tfds\n",
    "print(\"TensorFlow version:\", tf.__version__)\n",
    "print(\"Num GPUs Available: \", len(tf.config.experimental.list_physical_devices('GPU')))\n",
    "tf.config.list_physical_devices('GPU')\n",
    "(ds_train, ds_test), ds_info = tfds.load(\n",
    "    'mnist',\n",
    "    split=['train', 'test'],\n",
    "    shuffle_files=True,\n",
    "    as_supervised=True,\n",
    "    with_info=True,\n",
    ")\n",
    "def normalize_img(image, label):\n",
    "  \"\"\"Normalizes images: `uint8` -> `float32`.\"\"\"\n",
    "  return tf.cast(image, tf.float32) / 255., label\n",
    "batch_size = 128\n",
    "ds_train = ds_train.map(\n",
    "    normalize_img, num_parallel_calls=tf.data.experimental.AUTOTUNE)\n",
    "ds_train = ds_train.cache()\n",
    "ds_train = ds_train.shuffle(ds_info.splits['train'].num_examples)\n",
    "ds_train = ds_train.batch(batch_size)\n",
    "ds_train = ds_train.prefetch(tf.data.experimental.AUTOTUNE)\n",
    "ds_test = ds_test.map(\n",
    "    normalize_img, num_parallel_calls=tf.data.experimental.AUTOTUNE)\n",
    "ds_test = ds_test.batch(batch_size)\n",
    "ds_test = ds_test.cache()\n",
    "ds_test = ds_test.prefetch(tf.data.experimental.AUTOTUNE)\n",
    "model = tf.keras.models.Sequential([\n",
    "  tf.keras.layers.Conv2D(32, kernel_size=(3, 3),\n",
    "                 activation='relu'),\n",
    "  tf.keras.layers.Conv2D(64, kernel_size=(3, 3),\n",
    "                 activation='relu'),\n",
    "  tf.keras.layers.MaxPooling2D(pool_size=(2, 2)),\n",
    "#   tf.keras.layers.Dropout(0.25),\n",
    "  tf.keras.layers.Flatten(),\n",
    "  tf.keras.layers.Dense(128, activation='relu'),\n",
    "#   tf.keras.layers.Dropout(0.5),\n",
    "  tf.keras.layers.Dense(10, activation='softmax')\n",
    "])\n",
    "model.compile(\n",
    "    loss='sparse_categorical_crossentropy',\n",
    "    optimizer=tf.keras.optimizers.Adam(0.001),\n",
    "    metrics=['accuracy'],\n",
    ")\n",
    "model.fit(\n",
    "    ds_train,\n",
    "    epochs=12,\n",
    "    validation_data=ds_test,\n",
    ")\n"
   ]
  },
  {
   "cell_type": "code",
   "execution_count": null,
   "id": "5da96920",
   "metadata": {},
   "outputs": [],
   "source": []
  }
 ],
 "metadata": {
  "kernelspec": {
   "display_name": "Python 3 (ipykernel)",
   "language": "python",
   "name": "python3"
  },
  "language_info": {
   "codemirror_mode": {
    "name": "ipython",
    "version": 3
   },
   "file_extension": ".py",
   "mimetype": "text/x-python",
   "name": "python",
   "nbconvert_exporter": "python",
   "pygments_lexer": "ipython3",
   "version": "3.8.16"
  }
 },
 "nbformat": 4,
 "nbformat_minor": 5
}
